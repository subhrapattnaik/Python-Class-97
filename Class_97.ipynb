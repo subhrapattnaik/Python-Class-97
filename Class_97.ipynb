{
  "nbformat": 4,
  "nbformat_minor": 0,
  "metadata": {
    "colab": {
      "name": "Class-97.ipynb",
      "provenance": [],
      "collapsed_sections": [],
      "authorship_tag": "ABX9TyP6XTSooaBejmAf8hhtgFT0",
      "include_colab_link": true
    },
    "kernelspec": {
      "name": "python3",
      "display_name": "Python 3"
    },
    "language_info": {
      "name": "python"
    }
  },
  "cells": [
    {
      "cell_type": "markdown",
      "metadata": {
        "id": "view-in-github",
        "colab_type": "text"
      },
      "source": [
        "<a href=\"https://colab.research.google.com/github/subhrapattnaik/Python-Class-97/blob/main/Class_97.ipynb\" target=\"_parent\"><img src=\"https://colab.research.google.com/assets/colab-badge.svg\" alt=\"Open In Colab\"/></a>"
      ]
    },
    {
      "cell_type": "code",
      "metadata": {
        "colab": {
          "base_uri": "https://localhost:8080/"
        },
        "id": "3DXuKBU_qHfc",
        "outputId": "45f580e8-6653-434a-b0e9-a402d23f166d"
      },
      "source": [
        "myname=\"subhra\"\n",
        "print(myname)"
      ],
      "execution_count": null,
      "outputs": [
        {
          "output_type": "stream",
          "text": [
            "subhra\n"
          ],
          "name": "stdout"
        }
      ]
    },
    {
      "cell_type": "markdown",
      "metadata": {
        "id": "syvjMIu4jKny"
      },
      "source": [
        "# New Section"
      ]
    },
    {
      "cell_type": "code",
      "metadata": {
        "colab": {
          "base_uri": "https://localhost:8080/"
        },
        "id": "qckJsZGgqdrS",
        "outputId": "ae50f2d0-fe1e-4c43-8d77-dbed6e8f948a"
      },
      "source": [
        "myage=15\n",
        "print(myage)"
      ],
      "execution_count": null,
      "outputs": [
        {
          "output_type": "stream",
          "text": [
            "15\n"
          ],
          "name": "stdout"
        }
      ]
    },
    {
      "cell_type": "code",
      "metadata": {
        "colab": {
          "base_uri": "https://localhost:8080/"
        },
        "id": "NWf51GbKsY90",
        "outputId": "7495f37d-c6ed-4ff5-a499-d01a846cc7bd"
      },
      "source": [
        "myFriendList=[\"Raghu\",\"Radha\",\"Ghanashyam\"]\n",
        "print(myFriendList)"
      ],
      "execution_count": null,
      "outputs": [
        {
          "output_type": "stream",
          "text": [
            "['Raghu', 'Radha', 'Ghanashyam']\n"
          ],
          "name": "stdout"
        }
      ]
    },
    {
      "cell_type": "code",
      "metadata": {
        "colab": {
          "base_uri": "https://localhost:8080/"
        },
        "id": "m1E9lNPPst0H",
        "outputId": "252a18f7-8b74-47a3-a966-a6f914ba8472"
      },
      "source": [
        "print(myFriendList[2])"
      ],
      "execution_count": null,
      "outputs": [
        {
          "output_type": "stream",
          "text": [
            "Ghanashyam\n"
          ],
          "name": "stdout"
        }
      ]
    },
    {
      "cell_type": "code",
      "metadata": {
        "colab": {
          "base_uri": "https://localhost:8080/"
        },
        "id": "1HiNVQ6Ls4-1",
        "outputId": "9d0747e5-48fc-4a5a-9463-455f1d3af063"
      },
      "source": [
        "print(type(myname))"
      ],
      "execution_count": null,
      "outputs": [
        {
          "output_type": "stream",
          "text": [
            "<class 'str'>\n"
          ],
          "name": "stdout"
        }
      ]
    },
    {
      "cell_type": "code",
      "metadata": {
        "colab": {
          "base_uri": "https://localhost:8080/"
        },
        "id": "Iu32E6MhtjVq",
        "outputId": "8422dc0a-5d79-4931-ab1f-456d3ebab6ad"
      },
      "source": [
        "type(myage)"
      ],
      "execution_count": null,
      "outputs": [
        {
          "output_type": "execute_result",
          "data": {
            "text/plain": [
              "int"
            ]
          },
          "metadata": {
            "tags": []
          },
          "execution_count": 9
        }
      ]
    },
    {
      "cell_type": "code",
      "metadata": {
        "colab": {
          "base_uri": "https://localhost:8080/"
        },
        "id": "WdE6cwjbto6R",
        "outputId": "9dacc42d-4393-4745-933f-7794b7cc6c2a"
      },
      "source": [
        "type(myFriendList)"
      ],
      "execution_count": null,
      "outputs": [
        {
          "output_type": "execute_result",
          "data": {
            "text/plain": [
              "list"
            ]
          },
          "metadata": {
            "tags": []
          },
          "execution_count": 10
        }
      ]
    },
    {
      "cell_type": "code",
      "metadata": {
        "colab": {
          "base_uri": "https://localhost:8080/"
        },
        "id": "gjtS8NEzuNAT",
        "outputId": "4cfa0018-fcb5-4593-b3b6-d50e391a1b9e"
      },
      "source": [
        "len(myname)"
      ],
      "execution_count": null,
      "outputs": [
        {
          "output_type": "execute_result",
          "data": {
            "text/plain": [
              "6"
            ]
          },
          "metadata": {
            "tags": []
          },
          "execution_count": 11
        }
      ]
    },
    {
      "cell_type": "code",
      "metadata": {
        "colab": {
          "base_uri": "https://localhost:8080/"
        },
        "id": "79ZScmBEuqW1",
        "outputId": "64142893-7dfe-47d0-a77a-9ad7c9871883"
      },
      "source": [
        "a=\"I love \"\n",
        "b=\"Coding\"\n",
        "print(a+b)"
      ],
      "execution_count": null,
      "outputs": [
        {
          "output_type": "stream",
          "text": [
            "I love Coding\n"
          ],
          "name": "stdout"
        }
      ]
    },
    {
      "cell_type": "code",
      "metadata": {
        "colab": {
          "base_uri": "https://localhost:8080/",
          "height": 35
        },
        "id": "ugiFNkZqvWn_",
        "outputId": "01bcd207-631f-44a7-a0b2-fe85553b6a0c"
      },
      "source": [
        "s=\"Hello World\"\n",
        "s"
      ],
      "execution_count": null,
      "outputs": [
        {
          "output_type": "execute_result",
          "data": {
            "application/vnd.google.colaboratory.intrinsic+json": {
              "type": "string"
            },
            "text/plain": [
              "'Hello World'"
            ]
          },
          "metadata": {
            "tags": []
          },
          "execution_count": 14
        }
      ]
    },
    {
      "cell_type": "code",
      "metadata": {
        "colab": {
          "base_uri": "https://localhost:8080/",
          "height": 35
        },
        "id": "ENvbVjaKvejp",
        "outputId": "2d89865b-2778-4581-f31e-6d268239c0c9"
      },
      "source": [
        "s[0]\n",
        "#show first element"
      ],
      "execution_count": null,
      "outputs": [
        {
          "output_type": "execute_result",
          "data": {
            "application/vnd.google.colaboratory.intrinsic+json": {
              "type": "string"
            },
            "text/plain": [
              "'H'"
            ]
          },
          "metadata": {
            "tags": []
          },
          "execution_count": 16
        }
      ]
    },
    {
      "cell_type": "code",
      "metadata": {
        "colab": {
          "base_uri": "https://localhost:8080/",
          "height": 35
        },
        "id": "ak9wG9zav6YU",
        "outputId": "d6620a2a-0771-4216-dfdd-fcff900d48c8"
      },
      "source": [
        "s[4]"
      ],
      "execution_count": null,
      "outputs": [
        {
          "output_type": "execute_result",
          "data": {
            "application/vnd.google.colaboratory.intrinsic+json": {
              "type": "string"
            },
            "text/plain": [
              "'o'"
            ]
          },
          "metadata": {
            "tags": []
          },
          "execution_count": 17
        }
      ]
    },
    {
      "cell_type": "code",
      "metadata": {
        "colab": {
          "base_uri": "https://localhost:8080/",
          "height": 35
        },
        "id": "4csPLIqMwO-C",
        "outputId": "2af6b413-0738-422a-a104-05d7738bc988"
      },
      "source": [
        "s[-1]"
      ],
      "execution_count": null,
      "outputs": [
        {
          "output_type": "execute_result",
          "data": {
            "application/vnd.google.colaboratory.intrinsic+json": {
              "type": "string"
            },
            "text/plain": [
              "'d'"
            ]
          },
          "metadata": {
            "tags": []
          },
          "execution_count": 18
        }
      ]
    },
    {
      "cell_type": "code",
      "metadata": {
        "colab": {
          "base_uri": "https://localhost:8080/"
        },
        "id": "OBqfRN7vwTH1",
        "outputId": "1814a08c-cfc1-4208-da2d-64a491583237"
      },
      "source": [
        "print(s[-1])"
      ],
      "execution_count": null,
      "outputs": [
        {
          "output_type": "stream",
          "text": [
            "d\n"
          ],
          "name": "stdout"
        }
      ]
    },
    {
      "cell_type": "code",
      "metadata": {
        "colab": {
          "base_uri": "https://localhost:8080/",
          "height": 35
        },
        "id": "7-TrpcMTxN-6",
        "outputId": "b101af28-f957-49e1-bc99-60d2bbdc3b55"
      },
      "source": [
        "p=\"bengaluru\"\n",
        "p.upper()"
      ],
      "execution_count": null,
      "outputs": [
        {
          "output_type": "execute_result",
          "data": {
            "application/vnd.google.colaboratory.intrinsic+json": {
              "type": "string"
            },
            "text/plain": [
              "'BENGALURU'"
            ]
          },
          "metadata": {
            "tags": []
          },
          "execution_count": 20
        }
      ]
    },
    {
      "cell_type": "code",
      "metadata": {
        "colab": {
          "base_uri": "https://localhost:8080/"
        },
        "id": "oV8fXYaZxZu6",
        "outputId": "15caef55-b29e-47d7-c965-2f7674ba85fa"
      },
      "source": [
        "print(p.upper())"
      ],
      "execution_count": null,
      "outputs": [
        {
          "output_type": "stream",
          "text": [
            "BENGALURU\n"
          ],
          "name": "stdout"
        }
      ]
    },
    {
      "cell_type": "code",
      "metadata": {
        "colab": {
          "base_uri": "https://localhost:8080/",
          "height": 35
        },
        "id": "60HYxSATxqwy",
        "outputId": "24d037d9-96af-4b5d-ebb6-906f71df9db6"
      },
      "source": [
        "p.lower()"
      ],
      "execution_count": null,
      "outputs": [
        {
          "output_type": "execute_result",
          "data": {
            "application/vnd.google.colaboratory.intrinsic+json": {
              "type": "string"
            },
            "text/plain": [
              "'bengaluru'"
            ]
          },
          "metadata": {
            "tags": []
          },
          "execution_count": 22
        }
      ]
    },
    {
      "cell_type": "code",
      "metadata": {
        "colab": {
          "base_uri": "https://localhost:8080/",
          "height": 52
        },
        "id": "mU9xavHByEMV",
        "outputId": "86011091-c8c4-46c6-8600-fcf5d6ad4ccb"
      },
      "source": [
        "name=input('what is your name')\n",
        "name"
      ],
      "execution_count": null,
      "outputs": [
        {
          "output_type": "stream",
          "text": [
            "what is your namesubhra\n"
          ],
          "name": "stdout"
        },
        {
          "output_type": "execute_result",
          "data": {
            "application/vnd.google.colaboratory.intrinsic+json": {
              "type": "string"
            },
            "text/plain": [
              "'subhra'"
            ]
          },
          "metadata": {
            "tags": []
          },
          "execution_count": 26
        }
      ]
    },
    {
      "cell_type": "code",
      "metadata": {
        "colab": {
          "base_uri": "https://localhost:8080/"
        },
        "id": "FneAENJOyztA",
        "outputId": "c020b531-8e54-437e-dd91-0c421738299e"
      },
      "source": [
        "greeting=\"Hello \"\n",
        "print(greeting+name)\n"
      ],
      "execution_count": null,
      "outputs": [
        {
          "output_type": "stream",
          "text": [
            "Hello subhra\n"
          ],
          "name": "stdout"
        }
      ]
    },
    {
      "cell_type": "code",
      "metadata": {
        "colab": {
          "base_uri": "https://localhost:8080/"
        },
        "id": "xqMEbCvk0RFq",
        "outputId": "375c3999-7750-4969-c8da-923d84ded47a"
      },
      "source": [
        "name=\"vanila\"\n",
        "pqr=name in [\"vanila\",\"chocolate\"]\n",
        "print(pqr)"
      ],
      "execution_count": null,
      "outputs": [
        {
          "output_type": "stream",
          "text": [
            "True\n"
          ],
          "name": "stdout"
        }
      ]
    },
    {
      "cell_type": "code",
      "metadata": {
        "colab": {
          "base_uri": "https://localhost:8080/"
        },
        "id": "MAZIyVlhjpAW",
        "outputId": "a32adbff-a408-4852-97f8-b921c795a40b"
      },
      "source": [
        "#check for membership\n",
        "oreo='Oreo' in ['oreo','Dark Chocolate']\n",
        "print(oreo)\n"
      ],
      "execution_count": null,
      "outputs": [
        {
          "output_type": "stream",
          "text": [
            "False\n"
          ],
          "name": "stdout"
        }
      ]
    },
    {
      "cell_type": "code",
      "metadata": {
        "colab": {
          "base_uri": "https://localhost:8080/"
        },
        "id": "sKGotR-N2kG4",
        "outputId": "94df6e18-06cc-404c-cfb7-515333b6a52d"
      },
      "source": [
        "#initialize variables\n",
        "x1=6142\n",
        "y1=3629\n",
        "x2='Hello'\n",
        "y2='Hello'\n",
        "d1={'a':1,'b':2}\n",
        "d2={'a':1,'b':2}\n",
        "#d1 and d2 are dictionaries and we store key ,value pairs\n",
        "\n",
        "#code start here\n",
        "\n",
        "print(id(x1),id(y1))\n"
      ],
      "execution_count": null,
      "outputs": [
        {
          "output_type": "stream",
          "text": [
            "139849150785456 139849150785104\n"
          ],
          "name": "stdout"
        }
      ]
    },
    {
      "cell_type": "code",
      "metadata": {
        "colab": {
          "base_uri": "https://localhost:8080/"
        },
        "id": "SHXmuURB5J6I",
        "outputId": "33115f49-0862-4bc4-ba79-ee3a05963132"
      },
      "source": [
        "x1_is_y1=id(x1) is id(y1)\n",
        "print(x1_is_y1)"
      ],
      "execution_count": null,
      "outputs": [
        {
          "output_type": "stream",
          "text": [
            "False\n"
          ],
          "name": "stdout"
        }
      ]
    },
    {
      "cell_type": "code",
      "metadata": {
        "colab": {
          "base_uri": "https://localhost:8080/"
        },
        "id": "FjbCpRw05aMz",
        "outputId": "0ef3e826-69fd-42c2-d4a7-30342122daae"
      },
      "source": [
        "x2_is_y2=x2 is y2\n",
        "print(x2_is_y2)"
      ],
      "execution_count": null,
      "outputs": [
        {
          "output_type": "stream",
          "text": [
            "True\n"
          ],
          "name": "stdout"
        }
      ]
    },
    {
      "cell_type": "code",
      "metadata": {
        "colab": {
          "base_uri": "https://localhost:8080/"
        },
        "id": "g6hfWZZ36JJJ",
        "outputId": "5f1447af-f478-4fea-da3c-4771bd94c04e"
      },
      "source": [
        "d1_is_d2=d1 is d2\n",
        "print(d1_is_d2)\n",
        "\n",
        "#in case of dictionary, though d1 and d2 contains the same elements but output is false"
      ],
      "execution_count": null,
      "outputs": [
        {
          "output_type": "stream",
          "text": [
            "False\n"
          ],
          "name": "stdout"
        }
      ]
    },
    {
      "cell_type": "code",
      "metadata": {
        "colab": {
          "base_uri": "https://localhost:8080/"
        },
        "id": "8k0TQ6Hg6uYu",
        "outputId": "ac6d24ab-4cf9-43ff-e5c6-8217f2859d62"
      },
      "source": [
        "#List\n",
        "mylist=[1,2,3]\n",
        "print(mylist)"
      ],
      "execution_count": null,
      "outputs": [
        {
          "output_type": "stream",
          "text": [
            "[1, 2, 3]\n"
          ],
          "name": "stdout"
        }
      ]
    },
    {
      "cell_type": "code",
      "metadata": {
        "colab": {
          "base_uri": "https://localhost:8080/"
        },
        "id": "4PK19C3O7pBJ",
        "outputId": "e792ec87-668b-4e10-bbec-e64061d99798"
      },
      "source": [
        "list1=[\"string\",23,40,0.8,True]\n",
        "print(list1)"
      ],
      "execution_count": null,
      "outputs": [
        {
          "output_type": "stream",
          "text": [
            "['string', 23, 40, 0.8, True]\n"
          ],
          "name": "stdout"
        }
      ]
    },
    {
      "cell_type": "code",
      "metadata": {
        "colab": {
          "base_uri": "https://localhost:8080/"
        },
        "id": "j8pF_KUw79T6",
        "outputId": "1b89ea15-8624-419b-b015-a78261f709be"
      },
      "source": [
        "list2=[\"one\",\"two\",\"three\",4,5]\n",
        "\n",
        "#Grab element at index 0\n",
        "print(list2[0])"
      ],
      "execution_count": null,
      "outputs": [
        {
          "output_type": "stream",
          "text": [
            "one\n"
          ],
          "name": "stdout"
        }
      ]
    },
    {
      "cell_type": "code",
      "metadata": {
        "colab": {
          "base_uri": "https://localhost:8080/"
        },
        "id": "Semz7Jxh8PB6",
        "outputId": "8a59e69f-aa96-4f8a-f664-d25973546353"
      },
      "source": [
        "#Grab index 1 and everything past it\n",
        "print(list2[1:])"
      ],
      "execution_count": null,
      "outputs": [
        {
          "output_type": "stream",
          "text": [
            "['two', 'three', 4, 5]\n"
          ],
          "name": "stdout"
        }
      ]
    },
    {
      "cell_type": "code",
      "metadata": {
        "colab": {
          "base_uri": "https://localhost:8080/"
        },
        "id": "mET9gBRS8olf",
        "outputId": "72ecab49-6e28-4f44-b1e9-816535e77b6d"
      },
      "source": [
        "#we can also use + to concatenate lists\n",
        "print(list1+list2)"
      ],
      "execution_count": null,
      "outputs": [
        {
          "output_type": "stream",
          "text": [
            "['string', 23, 40, 0.8, True, 'one', 'two', 'three', 4, 5]\n"
          ],
          "name": "stdout"
        }
      ]
    },
    {
      "cell_type": "code",
      "metadata": {
        "colab": {
          "base_uri": "https://localhost:8080/"
        },
        "id": "ACHjMKm-9DsU",
        "outputId": "4875b190-4c9d-4054-cc48-1e0bae8aeba1"
      },
      "source": [
        "#Grab index 3 and everything before it(value at index 3 will not be printed)\n",
        "print(list2[:3])"
      ],
      "execution_count": null,
      "outputs": [
        {
          "output_type": "stream",
          "text": [
            "['one', 'two', 'three']\n"
          ],
          "name": "stdout"
        }
      ]
    },
    {
      "cell_type": "code",
      "metadata": {
        "colab": {
          "base_uri": "https://localhost:8080/"
        },
        "id": "T7FpxPrC9_ht",
        "outputId": "a2d27d58-277b-4f49-e5e6-7d99bc9f3283"
      },
      "source": [
        "#Slicing\n",
        "#slicing is used to access individual elements or a range of elements in a list\n",
        "#range will print 0 to 9 (1 number less)\n",
        "\n",
        "lst=list(range(10))\n",
        "print(lst)"
      ],
      "execution_count": null,
      "outputs": [
        {
          "output_type": "stream",
          "text": [
            "[0, 1, 2, 3, 4, 5, 6, 7, 8, 9]\n"
          ],
          "name": "stdout"
        }
      ]
    },
    {
      "cell_type": "code",
      "metadata": {
        "colab": {
          "base_uri": "https://localhost:8080/"
        },
        "id": "eX8klM3j_LRK",
        "outputId": "cc46543b-36ba-4385-ecc4-4af02025409c"
      },
      "source": [
        "#print from index 4 to 7\n",
        "print(lst[4:7])"
      ],
      "execution_count": null,
      "outputs": [
        {
          "output_type": "stream",
          "text": [
            "[4, 5, 6]\n"
          ],
          "name": "stdout"
        }
      ]
    },
    {
      "cell_type": "code",
      "metadata": {
        "colab": {
          "base_uri": "https://localhost:8080/"
        },
        "id": "iA3V67K__dDi",
        "outputId": "c1d28e50-3aff-4d61-d58a-63faf6065438"
      },
      "source": [
        "#numbers in steps of 2\n",
        "print(lst[::2])"
      ],
      "execution_count": null,
      "outputs": [
        {
          "output_type": "stream",
          "text": [
            "[0, 2, 4, 6, 8]\n"
          ],
          "name": "stdout"
        }
      ]
    },
    {
      "cell_type": "code",
      "metadata": {
        "colab": {
          "base_uri": "https://localhost:8080/"
        },
        "id": "TIEs0vFi_zxZ",
        "outputId": "470de4c3-eac3-478d-d515-f575304de7ba"
      },
      "source": [
        "#assign a different value to a index\n",
        "lst[0]=100\n",
        "print(lst)"
      ],
      "execution_count": null,
      "outputs": [
        {
          "output_type": "stream",
          "text": [
            "[100, 1, 2, 3, 4, 5, 6, 7, 8, 9]\n"
          ],
          "name": "stdout"
        }
      ]
    },
    {
      "cell_type": "code",
      "metadata": {
        "colab": {
          "base_uri": "https://localhost:8080/"
        },
        "id": "zXRyrH3yA1AB",
        "outputId": "18687eea-356e-4e5f-ca8f-3d746fd7e1f5"
      },
      "source": [
        "#prime numbers\n",
        "print(lst[1:7:2])"
      ],
      "execution_count": null,
      "outputs": [
        {
          "output_type": "stream",
          "text": [
            "[1, 3, 5]\n"
          ],
          "name": "stdout"
        }
      ]
    },
    {
      "cell_type": "code",
      "metadata": {
        "colab": {
          "base_uri": "https://localhost:8080/"
        },
        "id": "45G3FTTmBWI2",
        "outputId": "1e930da8-ee77-4a40-eb35-68b1abc7b823"
      },
      "source": [
        "#dictionary\n",
        "\n",
        "mydict={'key1':'value1','key2':'value2'}\n",
        "print(mydict)"
      ],
      "execution_count": null,
      "outputs": [
        {
          "output_type": "stream",
          "text": [
            "{'key1': 'value1', 'key2': 'value2'}\n"
          ],
          "name": "stdout"
        }
      ]
    },
    {
      "cell_type": "code",
      "metadata": {
        "colab": {
          "base_uri": "https://localhost:8080/"
        },
        "id": "kBXqKCVjBk8L",
        "outputId": "2e58d896-f665-4404-8eef-bee18abef72d"
      },
      "source": [
        "print(mydict[\"key1\"])"
      ],
      "execution_count": null,
      "outputs": [
        {
          "output_type": "stream",
          "text": [
            "value1\n"
          ],
          "name": "stdout"
        }
      ]
    },
    {
      "cell_type": "code",
      "metadata": {
        "colab": {
          "base_uri": "https://localhost:8080/"
        },
        "id": "MASD9lWZBvjU",
        "outputId": "32240f60-0801-4757-862b-f7a9c1213f27"
      },
      "source": [
        "mydict[\"key2\"]=\"changed val\"\n",
        "print(mydict)"
      ],
      "execution_count": null,
      "outputs": [
        {
          "output_type": "stream",
          "text": [
            "{'key1': 'value1', 'key2': 'changed val'}\n"
          ],
          "name": "stdout"
        }
      ]
    },
    {
      "cell_type": "code",
      "metadata": {
        "colab": {
          "base_uri": "https://localhost:8080/"
        },
        "id": "2lac4cp2GxdT",
        "outputId": "7fb76fae-95ec-45d6-ab01-bc548ef55a9a"
      },
      "source": [
        "introduction=input(\"introduce yourself\")"
      ],
      "execution_count": null,
      "outputs": [
        {
          "output_type": "stream",
          "text": [
            "introduce yourselfmy name is subhra\n"
          ],
          "name": "stdout"
        }
      ]
    },
    {
      "cell_type": "code",
      "metadata": {
        "colab": {
          "base_uri": "https://localhost:8080/"
        },
        "id": "wYb4SJvXG_ak",
        "outputId": "9a6ed2d2-d1ea-44a1-b347-b7d3d745bc06"
      },
      "source": [
        "print(introduction)"
      ],
      "execution_count": null,
      "outputs": [
        {
          "output_type": "stream",
          "text": [
            "my name is subhra\n"
          ],
          "name": "stdout"
        }
      ]
    },
    {
      "cell_type": "code",
      "metadata": {
        "colab": {
          "base_uri": "https://localhost:8080/"
        },
        "id": "FQ_1aHSbHDzB",
        "outputId": "d5401452-733b-4c28-94a6-8f5423296303"
      },
      "source": [
        "wordcount=1\n",
        "charactercount=0\n",
        "\n",
        "for i in introduction:\n",
        "  charactercount=charactercount+1\n",
        "  \n",
        "  if i == ' ':\n",
        "      wordcount=wordcount+1\n",
        "  \n",
        "print(\"Number of words in the string introduction =\")\n",
        "print(wordcount)\n",
        "print(\"number of characters in the string introduction = \")\n",
        "print(charactercount)\n"
      ],
      "execution_count": null,
      "outputs": [
        {
          "output_type": "stream",
          "text": [
            "Number of words in the string introduction =\n",
            "4\n",
            "number of characters in the string introduction = \n",
            "17\n"
          ],
          "name": "stdout"
        }
      ]
    }
  ]
}